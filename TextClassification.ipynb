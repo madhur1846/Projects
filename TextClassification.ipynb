{
 "cells": [
  {
   "cell_type": "code",
   "execution_count": 14,
   "metadata": {},
   "outputs": [],
   "source": [
    "# files taken from \"http://archive.ics.uci.edu/ml/datasets/Twenty+Newsgroups\"\n",
    "# Author : Madhur Joshi\n",
    "\n",
    "import pandas as pd\n",
    "import numpy as np\n",
    "from sklearn.model_selection import train_test_split\n",
    "from sklearn.datasets import load_files\n",
    "from sklearn.feature_extraction.text import CountVectorizer"
   ]
  },
  {
   "cell_type": "code",
   "execution_count": 34,
   "metadata": {},
   "outputs": [],
   "source": [
    "words = [\"i\", \"me\", \"my\", \"myself\", \"we\", \"our\", \"ours\", \"ourselves\", \"you\", \"your\", \"yours\", \"yourself\", \"yourselves\", \"he\", \"him\", \"his\", \"himself\", \"she\", \"her\", \"hers\", \"herself\", \"it\", \"its\", \"itself\", \"they\", \"them\", \"their\", \"theirs\", \"themselves\", \"what\", \"which\", \"who\", \"whom\", \"this\", \"that\", \"these\", \"those\", \"am\", \"is\", \"are\", \"was\", \"were\", \"be\", \"been\", \"being\", \"have\", \"has\", \"had\", \"having\", \"do\", \"does\", \"did\", \"doing\", \"a\", \"an\", \"the\", \"and\", \"but\", \"if\", \"or\", \"because\", \"as\", \"until\", \"while\", \"of\", \"at\", \"by\", \"for\", \"with\", \"about\", \"against\", \"between\", \"into\", \"through\", \"during\", \"before\", \"after\", \"above\", \"below\", \"to\", \"from\", \"up\", \"down\", \"in\", \"out\", \"on\", \"off\", \"over\", \"under\", \"again\", \"further\", \"then\", \"once\", \"here\", \"there\", \"when\", \"where\", \"why\", \"how\", \"all\", \"any\", \"both\", \"each\", \"few\", \"more\", \"most\", \"other\", \"some\", \"such\", \"no\", \"nor\", \"not\", \"only\", \"own\", \"same\", \"so\", \"than\", \"too\", \"very\", \"s\", \"t\", \"can\", \"will\", \"just\", \"don\", \"should\", \"now\"]"
   ]
  },
  {
   "cell_type": "code",
   "execution_count": 60,
   "metadata": {},
   "outputs": [],
   "source": [
    "files = load_files('train', load_content=True, encoding='ISO-8859-1')\n",
    "x_test = load_files('test', load_content=True, encoding='ISO-8859-1')\n",
    "data = files.data\n",
    "vectorization = CountVectorizer(stop_words = words)\n",
    "filtr = vectorization.fit_transform(data)\n",
    "dictanary = vectorization.get_feature_names()\n",
    "# str(vectorization.vocabulary_)"
   ]
  },
  {
   "cell_type": "code",
   "execution_count": 73,
   "metadata": {},
   "outputs": [],
   "source": [
    "y_train = files.target"
   ]
  },
  {
   "cell_type": "code",
   "execution_count": 62,
   "metadata": {},
   "outputs": [
    {
     "name": "stdout",
     "output_type": "stream",
     "text": [
      "[[0.         0.         0.         ... 0.         0.         0.        ]\n",
      " [0.         0.         0.         ... 0.         0.         0.        ]\n",
      " [0.00849825 0.         0.         ... 0.         0.         0.        ]\n",
      " ...\n",
      " [0.         0.         0.         ... 0.         0.         0.        ]\n",
      " [0.         0.         0.         ... 0.         0.         0.        ]\n",
      " [0.         0.         0.         ... 0.         0.         0.        ]]\n"
     ]
    }
   ],
   "source": [
    "from sklearn.feature_extraction.text import TfidfTransformer\n",
    "tfid = TfidfTransformer()\n",
    "perfect = tfid.fit_transform(filtr)\n",
    "print(perfect.toarray())"
   ]
  },
  {
   "cell_type": "code",
   "execution_count": 76,
   "metadata": {},
   "outputs": [
    {
     "data": {
      "text/plain": [
       "array([10, 16, 10, ...,  3,  3,  7])"
      ]
     },
     "execution_count": 76,
     "metadata": {},
     "output_type": "execute_result"
    }
   ],
   "source": [
    "from sklearn.naive_bayes import MultinomialNB\n",
    "clf = MultinomialNB().fit(perfect, y_train)\n",
    "newvec = vectorization.transform(x_test.data)\n",
    "ntfid = tfid.transform(newvec)\n",
    "pri = clf.predict(ntfid)\n",
    "pri"
   ]
  },
  {
   "cell_type": "code",
   "execution_count": 78,
   "metadata": {},
   "outputs": [
    {
     "name": "stdout",
     "output_type": "stream",
     "text": [
      "Accuracy :  0.8096123207647371\n",
      "                          precision    recall  f1-score   support\n",
      "\n",
      "             alt.atheism       0.81      0.67      0.73       319\n",
      "           comp.graphics       0.78      0.71      0.74       389\n",
      " comp.os.ms-windows.misc       0.79      0.70      0.74       394\n",
      "comp.sys.ibm.pc.hardware       0.67      0.80      0.73       392\n",
      "   comp.sys.mac.hardware       0.87      0.81      0.84       385\n",
      "          comp.windows.x       0.87      0.79      0.82       395\n",
      "            misc.forsale       0.88      0.77      0.82       390\n",
      "               rec.autos       0.87      0.92      0.90       396\n",
      "         rec.motorcycles       0.93      0.95      0.94       398\n",
      "      rec.sport.baseball       0.92      0.92      0.92       397\n",
      "        rec.sport.hockey       0.88      0.98      0.93       399\n",
      "               sci.crypt       0.72      0.97      0.82       396\n",
      "         sci.electronics       0.83      0.64      0.72       393\n",
      "                 sci.med       0.92      0.78      0.84       396\n",
      "               sci.space       0.83      0.94      0.88       394\n",
      "  soc.religion.christian       0.60      0.96      0.74       398\n",
      "      talk.politics.guns       0.66      0.94      0.77       364\n",
      "   talk.politics.mideast       0.94      0.94      0.94       376\n",
      "      talk.politics.misc       0.94      0.49      0.65       310\n",
      "      talk.religion.misc       0.95      0.21      0.34       251\n",
      "\n",
      "                accuracy                           0.81      7532\n",
      "               macro avg       0.83      0.79      0.79      7532\n",
      "            weighted avg       0.83      0.81      0.80      7532\n",
      "\n"
     ]
    }
   ],
   "source": [
    "from sklearn.metrics import classification_report\n",
    "from sklearn import metrics\n",
    "from sklearn.metrics import accuracy_score\n",
    "print('Accuracy : ' , accuracy_score(x_test.target, pri))\n",
    "print(metrics.classification_report(x_test.target, pri, target_names = x_test.target_names))"
   ]
  }
 ],
 "metadata": {
  "kernelspec": {
   "display_name": "Python 3",
   "language": "python",
   "name": "python3"
  },
  "language_info": {
   "codemirror_mode": {
    "name": "ipython",
    "version": 3
   },
   "file_extension": ".py",
   "mimetype": "text/x-python",
   "name": "python",
   "nbconvert_exporter": "python",
   "pygments_lexer": "ipython3",
   "version": "3.7.7"
  }
 },
 "nbformat": 4,
 "nbformat_minor": 2
}
